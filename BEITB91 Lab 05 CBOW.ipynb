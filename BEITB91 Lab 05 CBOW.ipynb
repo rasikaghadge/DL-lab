{
 "cells": [
  {
   "cell_type": "markdown",
   "id": "41c4839e",
   "metadata": {},
   "source": [
    "**Name** : Rasika Rajendra Ghadge\n",
    "\n",
    "**Roll No** : BEITB91\n",
    "\n",
    "**PRN** : 72139663B\n",
    "\n",
    "**Class** : BE IT B"
   ]
  },
  {
   "cell_type": "markdown",
   "id": "e9a27226",
   "metadata": {},
   "source": [
    "### Aim\n",
    "Implement the Continuous Bag of Words (CBOW) Model. Stages can be: \n",
    "1. Data preparation \n",
    "2. Generate training data \n",
    "3. Train model \n",
    "4. Output  "
   ]
  },
  {
   "cell_type": "markdown",
   "id": "9a177ebd",
   "metadata": {},
   "source": [
    "### Import required libraries"
   ]
  },
  {
   "cell_type": "code",
   "execution_count": null,
   "id": "c49f4246",
   "metadata": {},
   "outputs": [],
   "source": [
    "# import os\n",
    "# os.environ[\"PATH\"] += os.pathsep + \"/usr/bin/dot\""
   ]
  },
  {
   "cell_type": "code",
   "execution_count": 19,
   "id": "7dfbd235",
   "metadata": {},
   "outputs": [
    {
     "name": "stdout",
     "output_type": "stream",
     "text": [
      "Vocabulary Size: 103\n",
      "Vocabulary Sample: [('the', 1), ('of', 2), ('influenza', 3), ('covid', 4), ('19', 5), ('virus', 6), ('for', 7), ('transmission', 8), ('is', 9), ('to', 10)]\n",
      "wids []\n"
     ]
    }
   ],
   "source": [
    "from keras.preprocessing import text\n",
    "from keras.src.utils.np_utils import to_categorical\n",
    "from keras.preprocessing import sequence\n",
    "\n",
    "data=open('.\\corona.txt','r')\n",
    "\n",
    "tokenizer = text.Tokenizer()\n",
    "tokenizer.fit_on_texts(data)\n",
    "word2id = tokenizer.word_index\n",
    "\n",
    "# build vocabulary of unique words\n",
    "word2id['PAD'] = 0\n",
    "id2word = {v:k for k, v in word2id.items()}\n",
    "wids = [[word2id[w] for w in text.text_to_word_sequence(doc)] for doc in data]\n",
    "\n",
    "vocab_size = len(word2id)\n",
    "embed_size = 100\n",
    "window_size = 2 # context window size\n",
    "\n",
    "print('Vocabulary Size:', vocab_size)\n",
    "print('Vocabulary Sample:', list(word2id.items())[:10])\n",
    "\n",
    "print(\"wids\", wids)"
   ]
  },
  {
   "cell_type": "markdown",
   "id": "b9fadf11",
   "metadata": {},
   "source": [
    "#### Function that generates pairs of the context words and the target words"
   ]
  },
  {
   "cell_type": "code",
   "execution_count": 14,
   "id": "b5bc0490",
   "metadata": {},
   "outputs": [],
   "source": [
    "def generate_context_word_pairs(corpus, window_size, vocab_size):\n",
    "    context_length = window_size*2\n",
    "    for words in corpus:\n",
    "        sentence_length = len(words)\n",
    "        for index, word in enumerate(words):\n",
    "            context_words = []\n",
    "            label_word   = []            \n",
    "            start = index - window_size\n",
    "            end = index + window_size + 1\n",
    "            \n",
    "            context_words.append([words[i] \n",
    "                                 for i in range(start, end) \n",
    "                                 if 0 <= i < sentence_length \n",
    "                                 and i != index])\n",
    "            label_word.append(word)\n",
    "\n",
    "            x = sequence.pad_sequences(context_words, maxlen=context_length)\n",
    "            y = to_categorical(label_word, vocab_size)\n",
    "            yield (x, y)\n",
    "            \n",
    "            \n",
    "# Test this out for some samples\n",
    "i = 0\n",
    "for x, y in generate_context_word_pairs(corpus=wids, window_size=window_size, vocab_size=vocab_size):\n",
    "    print(wids)\n",
    "    if 0 not in x[0]:\n",
    "        print('Context (X):', [id2word[w] for w in x[0]], '-> Target (Y):', id2word[np.argwhere(y[0])[0][0]])\n",
    "    \n",
    "        if i == 10:\n",
    "            break\n",
    "        i += 1\n",
    "        "
   ]
  },
  {
   "cell_type": "markdown",
   "id": "78d50084",
   "metadata": {},
   "source": [
    "### Build the model"
   ]
  },
  {
   "cell_type": "code",
   "execution_count": 4,
   "id": "2eb1a825",
   "metadata": {},
   "outputs": [
    {
     "name": "stdout",
     "output_type": "stream",
     "text": [
      "Model: \"sequential\"\n",
      "_________________________________________________________________\n",
      " Layer (type)                Output Shape              Param #   \n",
      "=================================================================\n",
      " embedding (Embedding)       (None, 4, 100)            10300     \n",
      "                                                                 \n",
      " lambda (Lambda)             (None, 100)               0         \n",
      "                                                                 \n",
      " dense (Dense)               (None, 103)               10403     \n",
      "                                                                 \n",
      "=================================================================\n",
      "Total params: 20703 (80.87 KB)\n",
      "Trainable params: 20703 (80.87 KB)\n",
      "Non-trainable params: 0 (0.00 Byte)\n",
      "_________________________________________________________________\n",
      "None\n"
     ]
    }
   ],
   "source": [
    "import keras.backend as K\n",
    "from keras.models import Sequential\n",
    "from keras.layers import Dense, Embedding, Lambda\n",
    "\n",
    "# build CBOW architecture\n",
    "cbow = Sequential()\n",
    "cbow.add(Embedding(input_dim=vocab_size, output_dim=embed_size, input_length=window_size*2))\n",
    "cbow.add(Lambda(lambda x: K.mean(x, axis=1), output_shape=(embed_size,)))\n",
    "cbow.add(Dense(vocab_size, activation='softmax'))\n",
    "cbow.compile(loss='categorical_crossentropy', optimizer='rmsprop')\n",
    "\n",
    "# view model summary\n",
    "print(cbow.summary())"
   ]
  },
  {
   "cell_type": "markdown",
   "id": "8be59982",
   "metadata": {},
   "source": [
    "### Train the model"
   ]
  },
  {
   "cell_type": "code",
   "execution_count": 17,
   "id": "b1257eb3",
   "metadata": {},
   "outputs": [
    {
     "name": "stdout",
     "output_type": "stream",
     "text": [
      "wids []\n",
      "wids []\n",
      "wids []\n",
      "wids []\n",
      "wids []\n"
     ]
    }
   ],
   "source": [
    "for epoch in range(1, 6):\n",
    "    loss = 0.\n",
    "    i = 0\n",
    "    print(\"wids\", wids)\n",
    "    for x, y in generate_context_word_pairs(corpus=wids, window_size=window_size, vocab_size=vocab_size):\n",
    "        i += 1\n",
    "        loss += cbow.train_on_batch(x, y)\n",
    "        print(\"working\")\n",
    "        if i % 100000 == 0:\n",
    "            print('Processed {} (context, word) pairs'.format(i))"
   ]
  },
  {
   "cell_type": "markdown",
   "id": "fb0bddb6",
   "metadata": {},
   "source": [
    "### Get word embeddings"
   ]
  },
  {
   "cell_type": "code",
   "execution_count": 6,
   "id": "938e88ac",
   "metadata": {},
   "outputs": [
    {
     "name": "stdout",
     "output_type": "stream",
     "text": [
      "(102, 100)\n"
     ]
    },
    {
     "data": {
      "text/html": [
       "<div>\n",
       "<style scoped>\n",
       "    .dataframe tbody tr th:only-of-type {\n",
       "        vertical-align: middle;\n",
       "    }\n",
       "\n",
       "    .dataframe tbody tr th {\n",
       "        vertical-align: top;\n",
       "    }\n",
       "\n",
       "    .dataframe thead th {\n",
       "        text-align: right;\n",
       "    }\n",
       "</style>\n",
       "<table border=\"1\" class=\"dataframe\">\n",
       "  <thead>\n",
       "    <tr style=\"text-align: right;\">\n",
       "      <th></th>\n",
       "      <th>0</th>\n",
       "      <th>1</th>\n",
       "      <th>2</th>\n",
       "      <th>3</th>\n",
       "      <th>4</th>\n",
       "      <th>5</th>\n",
       "      <th>6</th>\n",
       "      <th>7</th>\n",
       "      <th>8</th>\n",
       "      <th>9</th>\n",
       "      <th>...</th>\n",
       "      <th>90</th>\n",
       "      <th>91</th>\n",
       "      <th>92</th>\n",
       "      <th>93</th>\n",
       "      <th>94</th>\n",
       "      <th>95</th>\n",
       "      <th>96</th>\n",
       "      <th>97</th>\n",
       "      <th>98</th>\n",
       "      <th>99</th>\n",
       "    </tr>\n",
       "  </thead>\n",
       "  <tbody>\n",
       "    <tr>\n",
       "      <th>of</th>\n",
       "      <td>-0.012557</td>\n",
       "      <td>-0.000489</td>\n",
       "      <td>-0.007461</td>\n",
       "      <td>-0.027918</td>\n",
       "      <td>0.030727</td>\n",
       "      <td>0.042697</td>\n",
       "      <td>-0.012129</td>\n",
       "      <td>-0.034516</td>\n",
       "      <td>-0.016602</td>\n",
       "      <td>-0.042653</td>\n",
       "      <td>...</td>\n",
       "      <td>0.038842</td>\n",
       "      <td>-0.044343</td>\n",
       "      <td>0.023791</td>\n",
       "      <td>0.012583</td>\n",
       "      <td>-0.033218</td>\n",
       "      <td>0.025297</td>\n",
       "      <td>-0.032556</td>\n",
       "      <td>0.005456</td>\n",
       "      <td>0.009999</td>\n",
       "      <td>0.027172</td>\n",
       "    </tr>\n",
       "    <tr>\n",
       "      <th>influenza</th>\n",
       "      <td>-0.007105</td>\n",
       "      <td>-0.040333</td>\n",
       "      <td>-0.024819</td>\n",
       "      <td>0.004046</td>\n",
       "      <td>-0.031860</td>\n",
       "      <td>0.005460</td>\n",
       "      <td>-0.034681</td>\n",
       "      <td>-0.043269</td>\n",
       "      <td>0.020203</td>\n",
       "      <td>0.016686</td>\n",
       "      <td>...</td>\n",
       "      <td>0.029064</td>\n",
       "      <td>0.036673</td>\n",
       "      <td>-0.009119</td>\n",
       "      <td>-0.001320</td>\n",
       "      <td>-0.011682</td>\n",
       "      <td>0.006550</td>\n",
       "      <td>0.044756</td>\n",
       "      <td>-0.049734</td>\n",
       "      <td>0.010074</td>\n",
       "      <td>0.049638</td>\n",
       "    </tr>\n",
       "    <tr>\n",
       "      <th>covid</th>\n",
       "      <td>0.046671</td>\n",
       "      <td>-0.029772</td>\n",
       "      <td>-0.017857</td>\n",
       "      <td>-0.047143</td>\n",
       "      <td>0.034568</td>\n",
       "      <td>-0.001688</td>\n",
       "      <td>0.033959</td>\n",
       "      <td>0.026106</td>\n",
       "      <td>0.045899</td>\n",
       "      <td>0.041789</td>\n",
       "      <td>...</td>\n",
       "      <td>0.035479</td>\n",
       "      <td>0.006482</td>\n",
       "      <td>0.018229</td>\n",
       "      <td>0.003817</td>\n",
       "      <td>-0.009278</td>\n",
       "      <td>-0.035821</td>\n",
       "      <td>-0.049479</td>\n",
       "      <td>0.036283</td>\n",
       "      <td>-0.023617</td>\n",
       "      <td>0.021720</td>\n",
       "    </tr>\n",
       "    <tr>\n",
       "      <th>19</th>\n",
       "      <td>-0.020916</td>\n",
       "      <td>-0.014346</td>\n",
       "      <td>0.014118</td>\n",
       "      <td>-0.025752</td>\n",
       "      <td>0.002652</td>\n",
       "      <td>-0.016447</td>\n",
       "      <td>0.047481</td>\n",
       "      <td>-0.027271</td>\n",
       "      <td>0.035732</td>\n",
       "      <td>0.031675</td>\n",
       "      <td>...</td>\n",
       "      <td>0.026499</td>\n",
       "      <td>-0.035445</td>\n",
       "      <td>0.016975</td>\n",
       "      <td>0.028401</td>\n",
       "      <td>-0.045361</td>\n",
       "      <td>0.041227</td>\n",
       "      <td>0.028149</td>\n",
       "      <td>-0.016440</td>\n",
       "      <td>-0.027975</td>\n",
       "      <td>0.049865</td>\n",
       "    </tr>\n",
       "    <tr>\n",
       "      <th>virus</th>\n",
       "      <td>0.044840</td>\n",
       "      <td>-0.029251</td>\n",
       "      <td>-0.014245</td>\n",
       "      <td>-0.018827</td>\n",
       "      <td>0.038892</td>\n",
       "      <td>0.022432</td>\n",
       "      <td>-0.006766</td>\n",
       "      <td>0.014069</td>\n",
       "      <td>-0.016519</td>\n",
       "      <td>-0.017933</td>\n",
       "      <td>...</td>\n",
       "      <td>-0.006680</td>\n",
       "      <td>0.026598</td>\n",
       "      <td>0.000940</td>\n",
       "      <td>0.022429</td>\n",
       "      <td>0.020573</td>\n",
       "      <td>-0.049636</td>\n",
       "      <td>-0.049444</td>\n",
       "      <td>-0.041092</td>\n",
       "      <td>0.027222</td>\n",
       "      <td>0.030606</td>\n",
       "    </tr>\n",
       "  </tbody>\n",
       "</table>\n",
       "<p>5 rows × 100 columns</p>\n",
       "</div>"
      ],
      "text/plain": [
       "                 0         1         2         3         4         5   \\\n",
       "of        -0.012557 -0.000489 -0.007461 -0.027918  0.030727  0.042697   \n",
       "influenza -0.007105 -0.040333 -0.024819  0.004046 -0.031860  0.005460   \n",
       "covid      0.046671 -0.029772 -0.017857 -0.047143  0.034568 -0.001688   \n",
       "19        -0.020916 -0.014346  0.014118 -0.025752  0.002652 -0.016447   \n",
       "virus      0.044840 -0.029251 -0.014245 -0.018827  0.038892  0.022432   \n",
       "\n",
       "                 6         7         8         9   ...        90        91  \\\n",
       "of        -0.012129 -0.034516 -0.016602 -0.042653  ...  0.038842 -0.044343   \n",
       "influenza -0.034681 -0.043269  0.020203  0.016686  ...  0.029064  0.036673   \n",
       "covid      0.033959  0.026106  0.045899  0.041789  ...  0.035479  0.006482   \n",
       "19         0.047481 -0.027271  0.035732  0.031675  ...  0.026499 -0.035445   \n",
       "virus     -0.006766  0.014069 -0.016519 -0.017933  ... -0.006680  0.026598   \n",
       "\n",
       "                 92        93        94        95        96        97  \\\n",
       "of         0.023791  0.012583 -0.033218  0.025297 -0.032556  0.005456   \n",
       "influenza -0.009119 -0.001320 -0.011682  0.006550  0.044756 -0.049734   \n",
       "covid      0.018229  0.003817 -0.009278 -0.035821 -0.049479  0.036283   \n",
       "19         0.016975  0.028401 -0.045361  0.041227  0.028149 -0.016440   \n",
       "virus      0.000940  0.022429  0.020573 -0.049636 -0.049444 -0.041092   \n",
       "\n",
       "                 98        99  \n",
       "of         0.009999  0.027172  \n",
       "influenza  0.010074  0.049638  \n",
       "covid     -0.023617  0.021720  \n",
       "19        -0.027975  0.049865  \n",
       "virus      0.027222  0.030606  \n",
       "\n",
       "[5 rows x 100 columns]"
      ]
     },
     "execution_count": 6,
     "metadata": {},
     "output_type": "execute_result"
    }
   ],
   "source": [
    "weights = cbow.get_weights()[0]\n",
    "weights = weights[1:]\n",
    "print(weights.shape)\n",
    "\n",
    "import pandas as pd\n",
    "pd.DataFrame(weights, index=list(id2word.values())[1:]).head()"
   ]
  },
  {
   "cell_type": "markdown",
   "id": "b25aa337",
   "metadata": {},
   "source": [
    "### Similar words"
   ]
  },
  {
   "cell_type": "code",
   "execution_count": 7,
   "id": "ffc23650",
   "metadata": {},
   "outputs": [
    {
     "name": "stdout",
     "output_type": "stream",
     "text": [
      "(102, 102)\n"
     ]
    },
    {
     "data": {
      "text/plain": [
       "{'virus': ['be', 'hours', 'an', '6', 'appear'],\n",
       " 'influenza': ['6', 'there', 'this', 'secondary', '19'],\n",
       " 'covid': ['two', 'there', 'cases', 'driver', 'not']}"
      ]
     },
     "execution_count": 7,
     "metadata": {},
     "output_type": "execute_result"
    }
   ],
   "source": [
    "from sklearn.metrics.pairwise import euclidean_distances\n",
    "\n",
    "# compute pairwise distance matrix\n",
    "distance_matrix = euclidean_distances(weights)\n",
    "print(distance_matrix.shape)\n",
    "\n",
    "# view contextually similar words\n",
    "similar_words = {search_term: [id2word[idx] for idx in distance_matrix[word2id[search_term]-1].argsort()[1:6]+1] \n",
    "                   for search_term in ['virus', 'influenza', 'covid']}\n",
    "\n",
    "similar_words"
   ]
  },
  {
   "cell_type": "code",
   "execution_count": null,
   "id": "07c2d6f7",
   "metadata": {},
   "outputs": [],
   "source": []
  }
 ],
 "metadata": {
  "kernelspec": {
   "display_name": "Python 3 (ipykernel)",
   "language": "python",
   "name": "python3"
  },
  "language_info": {
   "codemirror_mode": {
    "name": "ipython",
    "version": 3
   },
   "file_extension": ".py",
   "mimetype": "text/x-python",
   "name": "python",
   "nbconvert_exporter": "python",
   "pygments_lexer": "ipython3",
   "version": "3.10.4"
  }
 },
 "nbformat": 4,
 "nbformat_minor": 5
}
