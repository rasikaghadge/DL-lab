{
 "cells": [
  {
   "cell_type": "code",
   "execution_count": 2,
   "id": "a2cc3663",
   "metadata": {},
   "outputs": [
    {
     "name": "stdout",
     "output_type": "stream",
     "text": [
      "[[3, 2, 5, 33, 34, 35, 36, 37, 38, 39, 3, 2], [1, 8, 40, 41, 16, 42, 43, 17, 18], [9, 19, 4, 44, 10, 20, 45, 1, 11, 6, 12, 2, 7, 13], [21, 3, 2, 5, 46, 47, 48, 49, 50, 51, 14, 22, 4, 23, 24, 25, 26, 52], [15, 27, 28, 53, 54, 55, 2, 7, 56, 57, 58, 59], [60, 1, 8, 61, 29, 62, 63, 8, 64, 65, 66, 67, 68, 9, 19, 4], [69, 16, 70, 71, 29, 30, 72, 1, 17, 18, 73, 30, 74, 75], [1, 11, 76, 77, 78, 1, 79, 80, 81, 82, 83, 84, 6, 12, 85, 11], [6, 12, 86, 87, 88, 89, 90, 1, 91, 92, 93, 6], [14, 94, 95, 96, 97, 98, 99, 3, 2, 5, 100, 31, 101, 102, 31, 103, 104, 1], [105, 106, 3, 2, 5, 107, 28, 108, 109, 110, 111, 112, 113, 114, 115], [116, 2, 4, 25, 26, 24, 32, 117, 118, 119, 120, 121, 122, 123, 15, 13], [1, 124, 13, 125, 126, 127, 23, 1, 32, 128, 129, 10, 20, 130, 14, 22, 4], [2, 7, 131, 132, 15, 10, 9, 7, 4, 133, 134, 135, 1, 136], [137, 3, 2, 5, 138, 139, 140, 21, 27, 141, 142, 143, 144, 145]]\n"
     ]
    },
    {
     "name": "stderr",
     "output_type": "stream",
     "text": [
      "[nltk_data] Downloading package stopwords to\n",
      "[nltk_data]     C:\\Users\\RASIKA\\AppData\\Roaming\\nltk_data...\n",
      "[nltk_data]   Package stopwords is already up-to-date!\n"
     ]
    }
   ],
   "source": [
    "import nltk\n",
    "from nltk.corpus import stopwords\n",
    "\n",
    "nltk.download(\"stopwords\")\n",
    "\n",
    "stop_words = set(stopwords.words(\"english\"))\n",
    "\n",
    "corpus = [\"Natural language processing is a subfield of artificial intelligence that deals with the interaction between computers and humans through natural language.\",\n",
    "    \"Text data can be preprocessed to remove stopwords, punctuation, and perform stemming or lemmatization.\",\n",
    "    \"Machine learning models, such as deep neural networks, can be used for text classification, sentiment analysis, and language translation tasks.\",\n",
    "    \"The field of natural language processing has made significant advancements in recent years with the development of transformer-based models like BERT, GPT-3, and more.\",\n",
    "    \"NLP applications include chatbots, voice assistants, language translation services, and content summarization tools.\",\n",
    "    \"To work with text data effectively, it's important to clean and preprocess the data, tokenize it, and represent it in a format suitable for machine learning models.\",\n",
    "    \"Removing stopwords helps in focusing on the most important words or phrases in the text, while stemming and lemmatization reduce words to their base forms.\",\n",
    "    \"In text classification, a model learns to categorize text documents into predefined classes or labels, such as spam detection, sentiment analysis, or topic classification.\",\n",
    "    \"In sentiment analysis, the goal is to determine the emotional tone of a piece of text, such as positive, negative, or neutral sentiment.\",\n",
    "    \"The Transformer architecture, introduced by Vaswani et al., has revolutionized natural language processing by enabling attention mechanisms and self-attention for capturing context in text.\",\n",
    "    \"Some common libraries for natural language processing in Python include NLTK, spaCy, scikit-learn, and Hugging Face Transformers library.\",\n",
    "    \"Pretrained language models, such as GPT-3 and BERT, have achieved state-of-the-art performance in a wide range of NLP tasks.\",\n",
    "    \"Text generation tasks involve creating human-like text, which can be achieved using recurrent neural networks (RNNs) or transformer-based models.\",\n",
    "    \"Language translation is a crucial application of NLP, with neural machine translation models being highly effective in translating text between languages.\",\n",
    "    \"In summary, natural language processing is a dynamic and rapidly evolving field that has applications in various domains, from healthcare to finance and entertainment.\"]\n",
    "\n",
    "tokenized_corpus = []\n",
    "\n",
    "for text in corpus:\n",
    "    words = text.lower().split()\n",
    "    words = [word for word in words if word not in stop_words]\n",
    "    tokenized_corpus.append(\" \".join(words))\n",
    "    \n",
    "from tensorflow.keras.preprocessing.text import Tokenizer\n",
    "tokenizer = Tokenizer()\n",
    "tokenizer.fit_on_texts(tokenized_corpus)\n",
    "sequences = tokenizer.texts_to_sequences(tokenized_corpus)\n",
    "\n",
    "print(sequences)"
   ]
  },
  {
   "cell_type": "code",
   "execution_count": null,
   "id": "a0c6d026",
   "metadata": {},
   "outputs": [],
   "source": []
  }
 ],
 "metadata": {
  "kernelspec": {
   "display_name": "Python 3 (ipykernel)",
   "language": "python",
   "name": "python3"
  },
  "language_info": {
   "codemirror_mode": {
    "name": "ipython",
    "version": 3
   },
   "file_extension": ".py",
   "mimetype": "text/x-python",
   "name": "python",
   "nbconvert_exporter": "python",
   "pygments_lexer": "ipython3",
   "version": "3.10.4"
  }
 },
 "nbformat": 4,
 "nbformat_minor": 5
}
