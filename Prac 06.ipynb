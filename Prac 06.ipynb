{
 "cells": [
  {
   "cell_type": "code",
   "execution_count": 20,
   "id": "6d519a43",
   "metadata": {},
   "outputs": [],
   "source": [
    "import tensorflow as tf\n",
    "# pip install tfds-nightly==4.9.2\n",
    "import tensorflow_datasets as tfds"
   ]
  },
  {
   "cell_type": "code",
   "execution_count": 7,
   "id": "24a08a21",
   "metadata": {},
   "outputs": [],
   "source": [
    "# 1. Load dataset\n",
    "(train_ds, train_labels), (test_ds, test_labels) = tfds.load(\"tf_flowers\",\n",
    "                                                            split=[\"train[:70%]\", \"train[:30%]\"],\n",
    "                                                            batch_size=-1,\n",
    "                                                            as_supervised=True)"
   ]
  },
  {
   "cell_type": "code",
   "execution_count": 9,
   "id": "093b9eff",
   "metadata": {},
   "outputs": [],
   "source": [
    "# 2. resize images\n",
    "train_ds = tf.image.resize(train_ds, (150, 150))\n",
    "test_ds = tf.image.resize(test_ds, (150, 150))"
   ]
  },
  {
   "cell_type": "code",
   "execution_count": 12,
   "id": "00b57933",
   "metadata": {},
   "outputs": [],
   "source": [
    "# 3. Proper format for labels, change categorical data to numerical\n",
    "from tensorflow.keras.utils import to_categorical\n",
    "train_labels = to_categorical(train_labels)\n",
    "test_labels = to_categorical(test_labels)"
   ]
  },
  {
   "cell_type": "code",
   "execution_count": 15,
   "id": "9ab1187e",
   "metadata": {},
   "outputs": [],
   "source": [
    "# 4. load pre trained vgg16 model\n",
    "from tensorflow.keras.applications.vgg16 import VGG16\n",
    "base_model = VGG16(weights='imagenet', include_top=False, input_shape=train_ds[0].shape)\n",
    "# model that is pretrained on imagenet\n",
    "# does not include the top classification layer"
   ]
  },
  {
   "cell_type": "code",
   "execution_count": 17,
   "id": "67a8255b",
   "metadata": {},
   "outputs": [],
   "source": [
    "## 5. will not train base mode\n",
    "# Freeze Parameters in model's lower convolutional layersb\n",
    "base_model.trainable = False"
   ]
  },
  {
   "cell_type": "code",
   "execution_count": 18,
   "id": "9131b431",
   "metadata": {},
   "outputs": [],
   "source": [
    "# 6. preprocess input \n",
    "from tensorflow.keras.applications.vgg16 import preprocess_input\n",
    "train_ds = preprocess_input(train_ds)\n",
    "test_ds = preprocess_input(test_ds)"
   ]
  },
  {
   "cell_type": "code",
   "execution_count": 23,
   "id": "25bb011b",
   "metadata": {},
   "outputs": [],
   "source": [
    "# 7. Build model\n",
    "from tensorflow.keras import models, layers\n",
    "model = models.Sequential([\n",
    "    base_model, #pretrained model\n",
    "    layers.Flatten(), #flatten layer\n",
    "    layers.Dense(50, activation='relu'), #dense layer 1\n",
    "    layers.Dense(20, activation='relu'), #dense layer 2\n",
    "    layers.Dense(5, activation='softmax'), #prediction layer\n",
    "])"
   ]
  },
  {
   "cell_type": "code",
   "execution_count": 24,
   "id": "95219b4c",
   "metadata": {},
   "outputs": [],
   "source": [
    "# 8. Compile \n",
    "model.compile(optimizer = \"adam\", loss = \"categorical_crossentropy\", metrics = [\"accuracy\"])"
   ]
  },
  {
   "cell_type": "code",
   "execution_count": 27,
   "id": "71fc0139",
   "metadata": {},
   "outputs": [
    {
     "name": "stdout",
     "output_type": "stream",
     "text": [
      "Epoch 1/3\n",
      "1028/1028 [==============================] - 237s 229ms/step - loss: 1.6785 - accuracy: 0.5061 - val_loss: 1.1618 - val_accuracy: 0.5447\n",
      "Epoch 2/3\n",
      "1028/1028 [==============================] - 238s 231ms/step - loss: 0.9714 - accuracy: 0.6501 - val_loss: 1.4042 - val_accuracy: 0.5778\n",
      "Epoch 3/3\n",
      "1028/1028 [==============================] - 238s 231ms/step - loss: 0.7948 - accuracy: 0.7328 - val_loss: 1.1093 - val_accuracy: 0.6420\n"
     ]
    }
   ],
   "source": [
    "# 9. Fit model with early stopping\n",
    "from tensorflow.keras.callbacks import EarlyStopping\n",
    "es = EarlyStopping(monitor = 'val_accuracy', mode = 'max', patience = 5, restore_best_weights = True)\n",
    "\n",
    "history = model.fit(train_ds, train_labels, epochs = 3, validation_split = 0.2, batch_size = 2, callbacks = [es])"
   ]
  },
  {
   "cell_type": "code",
   "execution_count": 29,
   "id": "c3126548",
   "metadata": {},
   "outputs": [
    {
     "name": "stdout",
     "output_type": "stream",
     "text": [
      "35/35 [==============================] - 79s 2s/step - loss: 0.5500 - accuracy: 0.7947\n",
      "loss:  0.5499953031539917\n",
      "acc:  0.7947320342063904\n"
     ]
    }
   ],
   "source": [
    "loss, accuracy = model.evaluate(test_ds, test_labels)\n",
    "print(\"loss: \", loss)\n",
    "print(\"acc: \", accuracy)"
   ]
  },
  {
   "cell_type": "code",
   "execution_count": 31,
   "id": "9f603e49",
   "metadata": {},
   "outputs": [
    {
     "name": "stdout",
     "output_type": "stream",
     "text": [
      "35/35 [==============================] - 77s 2s/step\n",
      "[2 3 0 0 3 3 0 0 0 4]\n",
      "[2 3 3 4 3 0 0 0 0 1]\n"
     ]
    }
   ],
   "source": [
    "import numpy as np\n",
    "\n",
    "y_pred = model.predict(test_ds)\n",
    "predicted = np.argmax(y_pred, axis=1)\n",
    "\n",
    "print(predicted[:10])\n",
    "\n",
    "actual = np.argmax(test_labels, axis=1)\n",
    "print(actual[:10])"
   ]
  }
 ],
 "metadata": {
  "kernelspec": {
   "display_name": "Python 3 (ipykernel)",
   "language": "python",
   "name": "python3"
  },
  "language_info": {
   "codemirror_mode": {
    "name": "ipython",
    "version": 3
   },
   "file_extension": ".py",
   "mimetype": "text/x-python",
   "name": "python",
   "nbconvert_exporter": "python",
   "pygments_lexer": "ipython3",
   "version": "3.10.4"
  }
 },
 "nbformat": 4,
 "nbformat_minor": 5
}
